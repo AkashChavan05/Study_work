{
 "cells": [
  {
   "cell_type": "code",
   "execution_count": 5,
   "id": "efba25bf",
   "metadata": {},
   "outputs": [],
   "source": [
    "from dotenv import load_dotenv\n",
    "    \n",
    "from langchain.llms import HuggingFaceHub ,OpenAI\n",
    "from langchain.chat_models import ChatOpenAI"
   ]
  },
  {
   "cell_type": "code",
   "execution_count": 9,
   "id": "4cafca28",
   "metadata": {},
   "outputs": [
    {
     "name": "stdout",
     "output_type": "stream",
     "text": [
      "Collecting openai\n",
      "  Obtaining dependency information for openai from https://files.pythonhosted.org/packages/ae/59/911d6e5f1d7514d79c527067643376cddcf4cb8d1728e599b3b03ab51c69/openai-0.28.0-py3-none-any.whl.metadata\n",
      "  Downloading openai-0.28.0-py3-none-any.whl.metadata (13 kB)\n",
      "Requirement already satisfied: requests>=2.20 in /home/fx/anaconda3/lib/python3.11/site-packages (from openai) (2.31.0)\n",
      "Requirement already satisfied: tqdm in /home/fx/anaconda3/lib/python3.11/site-packages (from openai) (4.65.0)\n",
      "Requirement already satisfied: aiohttp in /home/fx/anaconda3/lib/python3.11/site-packages (from openai) (3.8.3)\n",
      "Requirement already satisfied: charset-normalizer<4,>=2 in /home/fx/anaconda3/lib/python3.11/site-packages (from requests>=2.20->openai) (2.0.4)\n",
      "Requirement already satisfied: idna<4,>=2.5 in /home/fx/anaconda3/lib/python3.11/site-packages (from requests>=2.20->openai) (3.4)\n",
      "Requirement already satisfied: urllib3<3,>=1.21.1 in /home/fx/anaconda3/lib/python3.11/site-packages (from requests>=2.20->openai) (1.26.16)\n",
      "Requirement already satisfied: certifi>=2017.4.17 in /home/fx/anaconda3/lib/python3.11/site-packages (from requests>=2.20->openai) (2023.7.22)\n",
      "Requirement already satisfied: attrs>=17.3.0 in /home/fx/anaconda3/lib/python3.11/site-packages (from aiohttp->openai) (22.1.0)\n",
      "Requirement already satisfied: multidict<7.0,>=4.5 in /home/fx/anaconda3/lib/python3.11/site-packages (from aiohttp->openai) (6.0.2)\n",
      "Requirement already satisfied: async-timeout<5.0,>=4.0.0a3 in /home/fx/anaconda3/lib/python3.11/site-packages (from aiohttp->openai) (4.0.2)\n",
      "Requirement already satisfied: yarl<2.0,>=1.0 in /home/fx/anaconda3/lib/python3.11/site-packages (from aiohttp->openai) (1.8.1)\n",
      "Requirement already satisfied: frozenlist>=1.1.1 in /home/fx/anaconda3/lib/python3.11/site-packages (from aiohttp->openai) (1.3.3)\n",
      "Requirement already satisfied: aiosignal>=1.1.2 in /home/fx/anaconda3/lib/python3.11/site-packages (from aiohttp->openai) (1.2.0)\n",
      "Downloading openai-0.28.0-py3-none-any.whl (76 kB)\n",
      "\u001b[2K   \u001b[38;2;114;156;31m━━━━━━━━━━━━━━━━━━━━━━━━━━━━━━━━━━━━━━━━\u001b[0m \u001b[32m76.5/76.5 kB\u001b[0m \u001b[31m1.2 MB/s\u001b[0m eta \u001b[36m0:00:00\u001b[0m MB/s\u001b[0m eta \u001b[36m0:00:01\u001b[0m\n",
      "\u001b[?25hInstalling collected packages: openai\n",
      "Successfully installed openai-0.28.0\n"
     ]
    }
   ],
   "source": [
    "!pip install openai"
   ]
  },
  {
   "cell_type": "code",
   "execution_count": 14,
   "id": "4e18c068",
   "metadata": {},
   "outputs": [
    {
     "name": "stdout",
     "output_type": "stream",
     "text": [
      "\n",
      "\n",
      "TechFinity Solutions\n"
     ]
    }
   ],
   "source": [
    "llm = OpenAI(temperature=0.0)\n",
    "\n",
    "name = llm(\"i want to open an IT company, what should be the name for this?\")\n",
    "\n",
    "print(name)"
   ]
  },
  {
   "cell_type": "code",
   "execution_count": 63,
   "id": "6fab1607",
   "metadata": {},
   "outputs": [
    {
     "name": "stdout",
     "output_type": "stream",
     "text": [
      "\n",
      "\n",
      "As of March 2021, TCS has 4,76,000 employees worldwide.\n"
     ]
    }
   ],
   "source": [
    "llm = OpenAI(temperature=0.0)\n",
    "\n",
    "name = llm(\"Find out how many employees working in TCS??\")\n",
    "\n",
    "print(name)"
   ]
  },
  {
   "cell_type": "code",
   "execution_count": 17,
   "id": "b11798bc",
   "metadata": {},
   "outputs": [
    {
     "data": {
      "text/plain": [
       "'i want to open an IT company give me name for same '"
      ]
     },
     "execution_count": 17,
     "metadata": {},
     "output_type": "execute_result"
    }
   ],
   "source": [
    "from langchain.prompts import PromptTemplate\n",
    "\n",
    "\n",
    "prompt_temp_name = PromptTemplate(\n",
    "    input_variables = [\"type\"] , \n",
    "    template = \"i want to open an {type} company give me name for same \")\n",
    "\n",
    "prompt_temp_name.format(type=\"IT\")\n"
   ]
  },
  {
   "cell_type": "code",
   "execution_count": 18,
   "id": "0a7c1b53",
   "metadata": {},
   "outputs": [
    {
     "data": {
      "text/plain": [
       "'\\n\\nFutbolFirm'"
      ]
     },
     "execution_count": 18,
     "metadata": {},
     "output_type": "execute_result"
    }
   ],
   "source": [
    "from langchain.chains import LLMChain\n",
    "\n",
    "chain = LLMChain(llm=llm , prompt =prompt_temp_name)\n",
    "chain.run(\"Football\")"
   ]
  },
  {
   "cell_type": "code",
   "execution_count": 20,
   "id": "bfa2e9f4",
   "metadata": {},
   "outputs": [
    {
     "data": {
      "text/plain": [
       "'\\n\\n1. IndiaCorp \\n2. IndiaTech Solutions \\n3. India Innovations \\n4. India Business Solutions \\n5. India Ventures \\n6. India Solutions Group \\n7. India Business Services \\n8. India Business Network \\n9. India Business Solutions Group \\n10. India Business Solutions Inc.'"
      ]
     },
     "execution_count": 20,
     "metadata": {},
     "output_type": "execute_result"
    }
   ],
   "source": [
    "chain.run(\"India\")"
   ]
  },
  {
   "cell_type": "markdown",
   "id": "6997f457",
   "metadata": {},
   "source": [
    "## Simple sequential chain"
   ]
  },
  {
   "cell_type": "code",
   "execution_count": 54,
   "id": "c4fd7be4",
   "metadata": {},
   "outputs": [],
   "source": [
    "llm = OpenAI(temperature=0.0)\n",
    "\n",
    "prompt_temp_name1=PromptTemplate(\n",
    "    input_variables=[\"cuisine\"],\n",
    "    template=\"i want to open an restaurant for {cuisine} food. suggest me name for restaurant\"\n",
    ")\n",
    "\n",
    "name_chain = LLMChain(llm=llm , prompt=prompt_temp_name1)\n",
    "\n",
    "prompt_temp_iteams = PromptTemplate(\n",
    "    input_variables=[\"restaurant_name\"],\n",
    "    template=\"\"\"suggest some menu iteams for {restaurant_name} , and return with comma seperated values\"\"\"\n",
    ")\n",
    "\n",
    "food_item_chain = LLMChain(llm=llm,prompt=prompt_temp_iteams)                   "
   ]
  },
  {
   "cell_type": "code",
   "execution_count": 56,
   "id": "04ba71fa",
   "metadata": {},
   "outputs": [
    {
     "name": "stdout",
     "output_type": "stream",
     "text": [
      "\n",
      "\n",
      "Samosa, Pakora, Tandoori Chicken, Naan, Chana Masala, Aloo Gobi, Paneer Tikka, Chicken Tikka Masala, Dal Makhani, Butter Chicken, Biryani, Gulab Jamun.\n"
     ]
    }
   ],
   "source": [
    "from langchain.chains import SimpleSequentialChain\n",
    "\n",
    "ss_chain =  SimpleSequentialChain(chains=[name_chain,food_item_chain])\n",
    "\n",
    "answer =ss_chain.run(\"Indian\")\n",
    "print(answer)"
   ]
  },
  {
   "cell_type": "markdown",
   "id": "5a0cf50b",
   "metadata": {},
   "source": [
    "## Sequential chain"
   ]
  },
  {
   "cell_type": "code",
   "execution_count": 57,
   "id": "8a0e7369",
   "metadata": {},
   "outputs": [],
   "source": [
    "llm = OpenAI(temperature=0.0)\n",
    "\n",
    "prompt_temp_name1=PromptTemplate(\n",
    "    input_variables=[\"cuisine\"],\n",
    "    template=\"i want to open an restaurant for {cuisine} food. suggest me name for restaurant\"\n",
    ")\n",
    "\n",
    "name_chain = LLMChain(llm=llm , prompt=prompt_temp_name1,output_key=\"restaurant_name\")\n",
    "\n",
    "prompt_temp_iteams = PromptTemplate(\n",
    "    input_variables=[\"restaurant_name\"],\n",
    "    template=\"\"\"suggest some menu iteams for {restaurant_name} , and return with comma seperated values\"\"\"\n",
    ")\n",
    "\n",
    "food_item_chain = LLMChain(llm=llm,prompt=prompt_temp_iteams,output_key=\"menu_items\")                   "
   ]
  },
  {
   "cell_type": "code",
   "execution_count": 59,
   "id": "b8f8e5f3",
   "metadata": {},
   "outputs": [
    {
     "data": {
      "text/plain": [
       "{'cuisine': 'Indian',\n",
       " 'restaurant_name': '\\n\\nSpice of India',\n",
       " 'menu_items': '\\n\\nSamosa, Pakora, Tandoori Chicken, Naan, Chana Masala, Aloo Gobi, Paneer Tikka, Chicken Tikka Masala, Dal Makhani, Butter Chicken, Biryani, Gulab Jamun.'}"
      ]
     },
     "execution_count": 59,
     "metadata": {},
     "output_type": "execute_result"
    }
   ],
   "source": [
    "from langchain.chains import SequentialChain\n",
    "\n",
    "s_chain = SequentialChain(\n",
    "    chains=[name_chain,food_item_chain],\n",
    "    input_variables=[\"cuisine\"],\n",
    "    output_variables = [\"restaurant_name\",\"menu_items\"])\n",
    "\n",
    "\n",
    "s_chain({\"cuisine\":\"Indian\"})"
   ]
  },
  {
   "cell_type": "code",
   "execution_count": 61,
   "id": "181cd605",
   "metadata": {},
   "outputs": [
    {
     "data": {
      "text/plain": [
       "{'cuisine': 'Italian',\n",
       " 'restaurant_name': '\\n\\nBuon Appetito!',\n",
       " 'menu_items': '\\n\\nPizza Margherita, Spaghetti Bolognese, Lasagna, Bruschetta, Caprese Salad, Gnocchi, Ravioli, Focaccia, Tiramisu.'}"
      ]
     },
     "execution_count": 61,
     "metadata": {},
     "output_type": "execute_result"
    }
   ],
   "source": [
    "s_chain({\"cuisine\":\"Italian\"})"
   ]
  },
  {
   "cell_type": "code",
   "execution_count": null,
   "id": "a4ff3916",
   "metadata": {},
   "outputs": [],
   "source": []
  }
 ],
 "metadata": {
  "kernelspec": {
   "display_name": "Python 3 (ipykernel)",
   "language": "python",
   "name": "python3"
  },
  "language_info": {
   "codemirror_mode": {
    "name": "ipython",
    "version": 3
   },
   "file_extension": ".py",
   "mimetype": "text/x-python",
   "name": "python",
   "nbconvert_exporter": "python",
   "pygments_lexer": "ipython3",
   "version": "3.11.4"
  }
 },
 "nbformat": 4,
 "nbformat_minor": 5
}
