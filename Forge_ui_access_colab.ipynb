{
  "nbformat": 4,
  "nbformat_minor": 0,
  "metadata": {
    "colab": {
      "provenance": [],
      "gpuType": "T4"
    },
    "kernelspec": {
      "name": "python3",
      "display_name": "Python 3"
    },
    "language_info": {
      "name": "python"
    },
    "accelerator": "GPU"
  },
  "cells": [
    {
      "cell_type": "markdown",
      "source": [
        "# RedDelta's SD Forge Colab\n",
        "\n",
        "The notebook is intended to make it easy to use [Stable Diffusion WebUI Forge](https://github.com/lllyasviel/stable-diffusion-webui-forge) in Google Colab. If you run into any problems or have any suggestions, please create an Issue on Github.\n",
        "\n",
        "## Parameters\n",
        "\n",
        "\n",
        "*   **USE_GOOGLE_DRIVE** - Stores the Forge installation in your GDrive, this makes it easy to store your generated images, checkpoints, installed extensions etc between sessions\n",
        "*   **UPDATE_FORGE** - Update your Forge installation when you run this notebook\n",
        "*   **INSTALL_DEPS** - Installs optional dependencies such as `insightface`\n",
        "*   **ALLOW_EXTENSION_INSTALLATION** - Allow installing extensions through the UI **Warning**: It is recommended to have **USE_USERNAME_AND_PASSWORD** turned on if you're using this, otherwise anyone with your Gradio URL could install malicious extensions on your instance\n",
        "*   **USE_USERNAME_AND_PASSWORD** - Require inputting a username and password when accessing the Gradio URL\n",
        "*   **USERNAME** - Username to use when accessing the Gradio URL\n",
        "*   **PASSWORD** - Password to use when accessing the Gradio URL\n",
        "\n"
      ],
      "metadata": {
        "id": "G1THoku412to"
      }
    },
    {
      "cell_type": "code",
      "source": [
        "from google.colab import drive\n",
        "\n",
        "USE_GOOGLE_DRIVE = True  #@param {type:\"boolean\"}\n",
        "UPDATE_FORGE = True  #@param {type:\"boolean\"}\n",
        "INSTALL_DEPS = True #@param {type:\"boolean\"}\n",
        "ALLOW_EXTENSION_INSTALLATION = True #@param {type:\"boolean\"}\n",
        "USE_USERNAME_AND_PASSWORD = True #@param {type:\"boolean\"}\n",
        "USERNAME = \"RedDeltas\" # @param {type:\"string\"}\n",
        "PASSWORD = \"IsTheBest\" # @param {type:\"string\"}\n",
        "\n",
        "WORKSPACE = 'stable-diffusion-webui-forge'\n",
        "\n",
        "if USE_GOOGLE_DRIVE:\n",
        "  print(\"📂 Connecting to Google Drive...\")\n",
        "  drive.mount('/content/drive')\n",
        "\n",
        "  WORKSPACE = \"/content/drive/MyDrive/stable-diffusion-webui-forge\"\n",
        "  %cd /content/drive/MyDrive\n",
        "\n",
        "![ ! -d $WORKSPACE ] && echo -= Initial setup SDForge =- && git clone --config core.filemode=false https://github.com/lllyasviel/stable-diffusion-webui-forge.git\n",
        "%cd $WORKSPACE\n",
        "\n",
        "extra_args = []\n",
        "\n",
        "if UPDATE_FORGE:\n",
        "  !echo -= Updating SDForge =-\n",
        "  !git pull\n",
        "\n",
        "if INSTALL_DEPS:\n",
        "  !echo -= Install dependencies =-\n",
        "  !pip3 install insightface\n",
        "\n",
        "if ALLOW_EXTENSION_INSTALLATION:\n",
        "  extra_args.append(\"--enable-insecure-extension-access\")\n",
        "\n",
        "if USE_USERNAME_AND_PASSWORD:\n",
        "  extra_args.append(f\"--gradio-auth {USERNAME}:{PASSWORD}\")\n",
        "\n",
        "extra_args_concat = \" \".join(extra_args)\n",
        "\n",
        "!python launch.py --share {extra_args_concat}"
      ],
      "metadata": {
        "id": "rEeZ9in5tBhT",
        "cellView": "form",
        "outputId": "52d4c60e-edaf-4178-a71f-25a0749740da",
        "colab": {
          "base_uri": "https://localhost:8080/"
        }
      },
      "execution_count": null,
      "outputs": [
        {
          "output_type": "stream",
          "name": "stdout",
          "text": [
            "📂 Connecting to Google Drive...\n",
            "Mounted at /content/drive\n",
            "/content/drive/MyDrive\n",
            "/content/drive/MyDrive/stable-diffusion-webui-forge\n",
            "-= Updating SDForge =-\n",
            "remote: Enumerating objects: 14, done.\u001b[K\n",
            "remote: Counting objects: 100% (14/14), done.\u001b[K\n",
            "remote: Compressing objects: 100% (10/10), done.\u001b[K\n",
            "remote: Total 14 (delta 4), reused 9 (delta 3), pack-reused 0 (from 0)\u001b[K\n",
            "Unpacking objects: 100% (14/14), 23.81 KiB | 132.00 KiB/s, done.\n",
            "From https://github.com/lllyasviel/stable-diffusion-webui-forge\n",
            "   791f04f7..b20cb4bf  main       -> origin/main\n",
            "Updating 791f04f7..b20cb4bf\n",
            "^C\n",
            "-= Install dependencies =-\n",
            "Collecting insightface\n",
            "  Downloading insightface-0.7.3.tar.gz (439 kB)\n",
            "\u001b[2K     \u001b[90m━━━━━━━━━━━━━━━━━━━━━━━━━━━━━━━━━━━━━━━━\u001b[0m \u001b[32m439.5/439.5 kB\u001b[0m \u001b[31m22.8 MB/s\u001b[0m eta \u001b[36m0:00:00\u001b[0m\n",
            "\u001b[?25h"
          ]
        }
      ]
    },
    {
      "cell_type": "code",
      "source": [],
      "metadata": {
        "id": "k_fsFs4jdrhj"
      },
      "execution_count": null,
      "outputs": []
    }
  ]
}