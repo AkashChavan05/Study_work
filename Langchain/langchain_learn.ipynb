{
 "cells": [
  {
   "cell_type": "code",
   "execution_count": 1,
   "id": "efba25bf",
   "metadata": {},
   "outputs": [
    {
     "data": {
      "text/plain": [
       "True"
      ]
     },
     "execution_count": 1,
     "metadata": {},
     "output_type": "execute_result"
    }
   ],
   "source": [
    "from dotenv import load_dotenv\n",
    "    \n",
    "from langchain.llms import HuggingFaceHub ,OpenAI\n",
    "from langchain.chat_models import ChatOpenAI\n",
    "\n",
    "load_dotenv()"
   ]
  },
  {
   "cell_type": "code",
   "execution_count": 2,
   "id": "4cafca28",
   "metadata": {},
   "outputs": [],
   "source": [
    "#!pip install openai"
   ]
  },
  {
   "cell_type": "code",
   "execution_count": 3,
   "id": "4e18c068",
   "metadata": {},
   "outputs": [
    {
     "name": "stdout",
     "output_type": "stream",
     "text": [
      "\n",
      "\n",
      "TechFinity Solutions\n"
     ]
    }
   ],
   "source": [
    "llm = OpenAI(temperature=0.0)\n",
    "\n",
    "name = llm(\"i want to open an IT company, what should be the name for this?\")\n",
    "\n",
    "print(name)"
   ]
  },
  {
   "cell_type": "code",
   "execution_count": 4,
   "id": "6fab1607",
   "metadata": {},
   "outputs": [
    {
     "name": "stdout",
     "output_type": "stream",
     "text": [
      "\n",
      "\n",
      "As of March 2021, TCS has 4,76,000 employees worldwide.\n"
     ]
    }
   ],
   "source": [
    "llm = OpenAI(temperature=0.0)\n",
    "\n",
    "name = llm(\"Find out how many employees working in TCS??\")\n",
    "\n",
    "print(name)"
   ]
  },
  {
   "cell_type": "code",
   "execution_count": 5,
   "id": "b11798bc",
   "metadata": {},
   "outputs": [
    {
     "data": {
      "text/plain": [
       "'i want to open an IT company give me name for same '"
      ]
     },
     "execution_count": 5,
     "metadata": {},
     "output_type": "execute_result"
    }
   ],
   "source": [
    "from langchain.prompts import PromptTemplate\n",
    "\n",
    "\n",
    "prompt_temp_name = PromptTemplate(\n",
    "    input_variables = [\"type\"] , \n",
    "    template = \"i want to open an {type} company give me name for same \")\n",
    "\n",
    "prompt_temp_name.format(type=\"IT\")\n"
   ]
  },
  {
   "cell_type": "code",
   "execution_count": 6,
   "id": "0a7c1b53",
   "metadata": {},
   "outputs": [
    {
     "data": {
      "text/plain": [
       "'FutbolFirm'"
      ]
     },
     "execution_count": 6,
     "metadata": {},
     "output_type": "execute_result"
    }
   ],
   "source": [
    "from langchain.chains import LLMChain\n",
    "\n",
    "chain = LLMChain(llm=llm , prompt =prompt_temp_name)\n",
    "chain.run(\"Football\").strip()"
   ]
  },
  {
   "cell_type": "code",
   "execution_count": 7,
   "id": "bfa2e9f4",
   "metadata": {},
   "outputs": [
    {
     "data": {
      "text/plain": [
       "'\\n\\n1. IndiaCorp \\n2. IndiaTech Solutions \\n3. India Innovations \\n4. India Business Solutions \\n5. India Ventures \\n6. India Solutions Group \\n7. India Business Services \\n8. India Business Network \\n9. India Business Solutions Group \\n10. India Business Solutions Inc.'"
      ]
     },
     "execution_count": 7,
     "metadata": {},
     "output_type": "execute_result"
    }
   ],
   "source": [
    "chain.run(\"India\")"
   ]
  },
  {
   "cell_type": "markdown",
   "id": "6997f457",
   "metadata": {},
   "source": [
    "## Simple sequential chain"
   ]
  },
  {
   "cell_type": "code",
   "execution_count": 8,
   "id": "c4fd7be4",
   "metadata": {},
   "outputs": [],
   "source": [
    "llm = OpenAI(temperature=0.0)\n",
    "\n",
    "prompt_temp_name1=PromptTemplate(\n",
    "    input_variables=[\"cuisine\"],\n",
    "    template=\"i want to open an restaurant for {cuisine} food. suggest me name for restaurant\"\n",
    ")\n",
    "\n",
    "name_chain = LLMChain(llm=llm , prompt=prompt_temp_name1)\n",
    "\n",
    "prompt_temp_iteams = PromptTemplate(\n",
    "    input_variables=[\"restaurant_name\"],\n",
    "    template=\"\"\"suggest some menu iteams for {restaurant_name} , and return with comma seperated values\"\"\"\n",
    ")\n",
    "\n",
    "food_item_chain = LLMChain(llm=llm,prompt=prompt_temp_iteams)                   "
   ]
  },
  {
   "cell_type": "code",
   "execution_count": 9,
   "id": "04ba71fa",
   "metadata": {},
   "outputs": [
    {
     "name": "stdout",
     "output_type": "stream",
     "text": [
      "\n",
      "\n",
      "Samosa, Pakora, Tandoori Chicken, Naan, Chana Masala, Aloo Gobi, Paneer Tikka, Chicken Tikka Masala, Dal Makhani, Butter Chicken, Biryani, Gulab Jamun.\n"
     ]
    }
   ],
   "source": [
    "from langchain.chains import SimpleSequentialChain\n",
    "\n",
    "ss_chain =  SimpleSequentialChain(chains=[name_chain,food_item_chain])\n",
    "\n",
    "answer =ss_chain.run(\"Indian\")\n",
    "print(answer)"
   ]
  },
  {
   "cell_type": "markdown",
   "id": "5a0cf50b",
   "metadata": {},
   "source": [
    "## Sequential chain"
   ]
  },
  {
   "cell_type": "code",
   "execution_count": 10,
   "id": "8a0e7369",
   "metadata": {},
   "outputs": [],
   "source": [
    "llm = OpenAI(temperature=0.0)\n",
    "\n",
    "prompt_temp_name1=PromptTemplate(\n",
    "    input_variables=[\"cuisine\"],\n",
    "    template=\"i want to open an restaurant for {cuisine} food. suggest me name for restaurant\"\n",
    ")\n",
    "\n",
    "name_chain = LLMChain(llm=llm , prompt=prompt_temp_name1,output_key=\"restaurant_name\")\n",
    "\n",
    "prompt_temp_iteams = PromptTemplate(\n",
    "    input_variables=[\"restaurant_name\"],\n",
    "    template=\"\"\"suggest some menu iteams for {restaurant_name} , and return with comma seperated values\"\"\"\n",
    ")\n",
    "\n",
    "food_item_chain = LLMChain(llm=llm,prompt=prompt_temp_iteams,output_key=\"menu_items\")                   "
   ]
  },
  {
   "cell_type": "code",
   "execution_count": 11,
   "id": "b8f8e5f3",
   "metadata": {},
   "outputs": [
    {
     "data": {
      "text/plain": [
       "{'cuisine': 'Indian',\n",
       " 'restaurant_name': '\\n\\nSpice of India',\n",
       " 'menu_items': '\\n\\nSamosa, Pakora, Tandoori Chicken, Naan, Chana Masala, Aloo Gobi, Paneer Tikka, Chicken Tikka Masala, Dal Makhani, Butter Chicken, Biryani, Gulab Jamun.'}"
      ]
     },
     "execution_count": 11,
     "metadata": {},
     "output_type": "execute_result"
    }
   ],
   "source": [
    "from langchain.chains import SequentialChain\n",
    "\n",
    "s_chain = SequentialChain(\n",
    "    chains=[name_chain,food_item_chain],\n",
    "    input_variables=[\"cuisine\"],\n",
    "    output_variables = [\"restaurant_name\",\"menu_items\"])\n",
    "\n",
    "\n",
    "s_chain({\"cuisine\":\"Indian\"})"
   ]
  },
  {
   "cell_type": "code",
   "execution_count": 12,
   "id": "181cd605",
   "metadata": {
    "scrolled": true
   },
   "outputs": [
    {
     "data": {
      "text/plain": [
       "{'cuisine': 'Italian',\n",
       " 'restaurant_name': '\\n\\nBuon Appetito!',\n",
       " 'menu_items': '\\n\\nPizza Margherita, Spaghetti Bolognese, Lasagna, Bruschetta, Caprese Salad, Gnocchi, Ravioli, Focaccia, Tiramisu.'}"
      ]
     },
     "execution_count": 12,
     "metadata": {},
     "output_type": "execute_result"
    }
   ],
   "source": [
    "s_chain({\"cuisine\":\"Italian\"})"
   ]
  },
  {
   "cell_type": "code",
   "execution_count": 15,
   "id": "a4ff3916",
   "metadata": {},
   "outputs": [],
   "source": [
    "# !pip install wikipedia\n"
   ]
  },
  {
   "cell_type": "markdown",
   "id": "c5bf69d7",
   "metadata": {},
   "source": [
    "# Agent"
   ]
  },
  {
   "cell_type": "code",
   "execution_count": 17,
   "id": "d8f1c809",
   "metadata": {},
   "outputs": [
    {
     "name": "stdout",
     "output_type": "stream",
     "text": [
      "\n",
      "\n",
      "\u001b[1m> Entering new AgentExecutor chain...\u001b[0m\n",
      "\u001b[32;1m\u001b[1;3m I need to find out who Leo DiCaprio's girlfriend is and then calculate her age raised to the 0.43 power.\n",
      "Action: Wikipedia\n",
      "Action Input: Leo DiCaprio's girlfriend\u001b[0m\n",
      "Observation: \u001b[36;1m\u001b[1;3mPage: Leonardo DiCaprio\n",
      "Summary: Leonardo Wilhelm DiCaprio (, ; Italian: [diˈkaːprjo]; born November 11, 1974) is an American actor and film producer. Known for his work in biographical and period films, he is the recipient of numerous accolades, including an Academy Award, a British Academy Film Award and three Golden Globe Awards. As of 2019, his films have grossed over $7.2 billion worldwide, and he has been placed eight times in annual rankings of the world's highest-paid actors.\n",
      "Born in Los Angeles, DiCaprio began his career in the late 1980s by appearing in television commercials. In the early 1990s, he had recurring roles in various television shows, such as the sitcom Parenthood, and had his first major film part as author Tobias Wolff in This Boy's Life (1993). He received critical acclaim and his first Academy Award and Golden Globe Award nominations for his performance as a developmentally disabled boy in What's Eating Gilbert Grape (1993). DiCaprio achieved international stardom with the star-crossed romances Romeo + Juliet (1996) and Titanic (1997). After the latter became the highest-grossing film at the time, he reduced his workload for a few years. In an attempt to shed his image of a romantic hero, DiCaprio sought roles in other genres, including the 2002 crime dramas Catch Me If You Can and Gangs of New York; the latter marked the first of his many successful collaborations with director Martin Scorsese.\n",
      "DiCaprio continued to gain acclaim for his performances in the biopic The Aviator (2004), the political thriller Blood Diamond (2006), the crime drama The Departed (2006) and the romantic drama Revolutionary Road (2008). He later made environmental documentaries and starred in several high-profile directors' successful projects, including the action thriller Inception (2010), the western Django Unchained (2012), the biopic The Wolf of Wall Street (2013), the survival drama The Revenant (2015)—for which he won the Academy Award for Best Actor—and the comedy-dramas Once Upon a Time in Hollywood (2019) and Don't Look Up (2021).\n",
      "DiCaprio is the founder of Appian Way Productions—a production company that has made some of his films and the documentary series Greensburg (2008–2010)—and the Leonardo DiCaprio Foundation, a nonprofit organization devoted to promoting environmental awareness. A United Nations Messenger of Peace, he regularly supports charitable causes. In 2005, he was named a Commander of the Ordre des Arts et des Lettres for his contributions to the arts, and in 2016, he appeared in Time magazine's 100 most influential people in the world. DiCaprio was voted one of the 50 greatest actors of all time in a 2022 readers' poll by Empire.\n",
      "\n",
      "Page: Camila Morrone\n",
      "Summary: Camila Rebeca Morrone Polak (born June 16, 1997) is an American actress and model. She is the daughter of actors Maximo Morrone and Lucila Polak; and was also raised in part by actor Al Pacino (who served as a parental figure during his long-term partnership with Polak). Morrone made her acting debut in the James Franco film Bukowski (2013). In 2016, she posed in the Victoria's Secret lookbook; and walked the runway for Moschino, the following year. Since then, she has made appearances in the horror film Death Wish (2018), as well as the independent films Never Goin' Back (2018) and Mickey and the Bear (2019). Her role as Camila Alvarez-Dunne in the Amazon Prime Video limited series Daisy Jones & the Six (2023), earned her a nomination for a Primetime Emmy Award.\n",
      "\n",
      "Page: The Departed\n",
      "Summary: The Departed is a 2006 American crime thriller film directed by Martin Scorsese and written by William Monahan. It is both a remake of the 2002 Hong Kong film Infernal Affairs and also loosely based on the real-life Boston Winter Hill Gang; the character Colin Sullivan is based on the corrupt FBI agent John Connolly, while the character Frank Costello is based on Irish-American gangster and crime boss Whitey Bulger. The film stars Leonardo DiCaprio, Matt \u001b[0m\n",
      "Thought:\u001b[32;1m\u001b[1;3m I now know that Leo DiCaprio's girlfriend is Camila Morrone, who is 23 years old.\n",
      "Action: Calculator\n",
      "Action Input: 23^0.43\u001b[0m\n",
      "Observation: \u001b[33;1m\u001b[1;3mAnswer: 3.8507291225496925\u001b[0m\n",
      "Thought:\u001b[32;1m\u001b[1;3m I now know the final answer.\n",
      "Final Answer: Leo DiCaprio's girlfriend is Camila Morrone, who is 23 years old and her current age raised to the 0.43 power is 3.8507291225496925.\u001b[0m\n",
      "\n",
      "\u001b[1m> Finished chain.\u001b[0m\n"
     ]
    },
    {
     "data": {
      "text/plain": [
       "\"Leo DiCaprio's girlfriend is Camila Morrone, who is 23 years old and her current age raised to the 0.43 power is 3.8507291225496925.\""
      ]
     },
     "execution_count": 17,
     "metadata": {},
     "output_type": "execute_result"
    }
   ],
   "source": [
    "from langchain.agents import AgentType, initialize_agent, load_tools\n",
    "\n",
    "from langchain.llms import OpenAI\n",
    "\n",
    "tools = load_tools([\"wikipedia\",\"llm-math\"],llm=llm)\n",
    "\n",
    "agent = initialize_agent(tools,llm,agent=AgentType.ZERO_SHOT_REACT_DESCRIPTION ,verbose=True)\n",
    "\n",
    "agent.run(\"Who is Leo DiCaprio's girlfriend? What is her current age raised to the 0.43 power?\")\n"
   ]
  },
  {
   "cell_type": "code",
   "execution_count": null,
   "id": "58389bee",
   "metadata": {},
   "outputs": [],
   "source": []
  }
 ],
 "metadata": {
  "kernelspec": {
   "display_name": "Python 3 (ipykernel)",
   "language": "python",
   "name": "python3"
  },
  "language_info": {
   "codemirror_mode": {
    "name": "ipython",
    "version": 3
   },
   "file_extension": ".py",
   "mimetype": "text/x-python",
   "name": "python",
   "nbconvert_exporter": "python",
   "pygments_lexer": "ipython3",
   "version": "3.11.4"
  }
 },
 "nbformat": 4,
 "nbformat_minor": 5
}
