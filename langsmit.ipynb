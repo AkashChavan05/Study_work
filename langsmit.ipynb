{
  "cells": [
    {
      "cell_type": "markdown",
      "metadata": {
        "id": "XjWNZmS9S-h8"
      },
      "source": [
        "##Install Dependencies"
      ]
    },
    {
      "cell_type": "code",
      "execution_count": 1,
      "metadata": {
        "colab": {
          "base_uri": "https://localhost:8080/"
        },
        "id": "Jvmn0u0fD0Bo",
        "outputId": "d8cb332a-66dd-4b99-fee7-aa0c3e4be445"
      },
      "outputs": [
        {
          "name": "stdout",
          "output_type": "stream",
          "text": [
            "Requirement already satisfied: langsmith in /usr/local/lib/python3.10/dist-packages (0.1.108)\n",
            "Requirement already satisfied: openai in /usr/local/lib/python3.10/dist-packages (1.43.0)\n",
            "Requirement already satisfied: ollama in /usr/local/lib/python3.10/dist-packages (0.3.2)\n",
            "Requirement already satisfied: httpx<1,>=0.23.0 in /usr/local/lib/python3.10/dist-packages (from langsmith) (0.27.2)\n",
            "Requirement already satisfied: orjson<4.0.0,>=3.9.14 in /usr/local/lib/python3.10/dist-packages (from langsmith) (3.10.7)\n",
            "Requirement already satisfied: pydantic<3,>=1 in /usr/local/lib/python3.10/dist-packages (from langsmith) (2.8.2)\n",
            "Requirement already satisfied: requests<3,>=2 in /usr/local/lib/python3.10/dist-packages (from langsmith) (2.32.3)\n",
            "Requirement already satisfied: anyio<5,>=3.5.0 in /usr/local/lib/python3.10/dist-packages (from openai) (3.7.1)\n",
            "Requirement already satisfied: distro<2,>=1.7.0 in /usr/lib/python3/dist-packages (from openai) (1.7.0)\n",
            "Requirement already satisfied: jiter<1,>=0.4.0 in /usr/local/lib/python3.10/dist-packages (from openai) (0.5.0)\n",
            "Requirement already satisfied: sniffio in /usr/local/lib/python3.10/dist-packages (from openai) (1.3.1)\n",
            "Requirement already satisfied: tqdm>4 in /usr/local/lib/python3.10/dist-packages (from openai) (4.66.5)\n",
            "Requirement already satisfied: typing-extensions<5,>=4.11 in /usr/local/lib/python3.10/dist-packages (from openai) (4.12.2)\n",
            "Requirement already satisfied: idna>=2.8 in /usr/local/lib/python3.10/dist-packages (from anyio<5,>=3.5.0->openai) (3.8)\n",
            "Requirement already satisfied: exceptiongroup in /usr/local/lib/python3.10/dist-packages (from anyio<5,>=3.5.0->openai) (1.2.2)\n",
            "Requirement already satisfied: certifi in /usr/local/lib/python3.10/dist-packages (from httpx<1,>=0.23.0->langsmith) (2024.7.4)\n",
            "Requirement already satisfied: httpcore==1.* in /usr/local/lib/python3.10/dist-packages (from httpx<1,>=0.23.0->langsmith) (1.0.5)\n",
            "Requirement already satisfied: h11<0.15,>=0.13 in /usr/local/lib/python3.10/dist-packages (from httpcore==1.*->httpx<1,>=0.23.0->langsmith) (0.14.0)\n",
            "Requirement already satisfied: annotated-types>=0.4.0 in /usr/local/lib/python3.10/dist-packages (from pydantic<3,>=1->langsmith) (0.7.0)\n",
            "Requirement already satisfied: pydantic-core==2.20.1 in /usr/local/lib/python3.10/dist-packages (from pydantic<3,>=1->langsmith) (2.20.1)\n",
            "Requirement already satisfied: charset-normalizer<4,>=2 in /usr/local/lib/python3.10/dist-packages (from requests<3,>=2->langsmith) (3.3.2)\n",
            "Requirement already satisfied: urllib3<3,>=1.21.1 in /usr/local/lib/python3.10/dist-packages (from requests<3,>=2->langsmith) (2.0.7)\n"
          ]
        }
      ],
      "source": [
        "! pip install -U langsmith openai ollama"
      ]
    },
    {
      "cell_type": "code",
      "execution_count": 2,
      "metadata": {
        "id": "5VteWOQAT4rm"
      },
      "outputs": [],
      "source": [
        "import os\n",
        "import openai\n",
        "import pandas as pd\n",
        "from google.colab import userdata\n",
        "\n",
        "from langsmith import Client"
      ]
    },
    {
      "cell_type": "code",
      "execution_count": 9,
      "metadata": {
        "id": "at9hT3cMTuKm"
      },
      "outputs": [],
      "source": [
        "#Manual Dataset creation\n",
        "# \n",
        "inputs = [\n",
        "    \"How many tokens was DBRX pre-trained on?\",\n",
        "    \"Is DBRX a MOE model and how many parameters does it have?\",\n",
        "    \"How many GPUs was DBRX trained on and what was the connectivity between GPUs?\",\n",
        "]\n",
        "\n",
        "outputs = [\n",
        "    \"DBRX was pre-trained on 12 trillion tokens of text and code data.\",\n",
        "    \"Yes, DBRX is a fine-grained mixture-of-experts (MoE) architecture with 132B total parameters.\",\n",
        "    \"DBRX was trained on 3072 NVIDIA H100s connected by 3.2Tbps Infiniband\",\n",
        "]\n",
        "\n",
        "# Dataset\n",
        "qa_pairs = [{\"question\": q, \"answer\": a} for q, a in zip(inputs, outputs)]\n",
        "df = pd.DataFrame(qa_pairs)\n",
        "\n",
        "# Write to csv\n",
        "csv_path = \"/content/DBRX_eval.csv\"\n",
        "df.to_csv(csv_path, index=False)"
      ]
    },
    {
      "cell_type": "code",
      "execution_count": 19,
      "metadata": {
        "colab": {
          "base_uri": "https://localhost:8080/"
        },
        "id": "RSmSc98SUPq-",
        "outputId": "8d365acd-e124-4328-b47b-b30e4181ab0d"
      },
      "outputs": [
        {
          "name": "stdout",
          "output_type": "stream",
          "text": [
            "Client (API URL: https://api.smith.langchain.com)\n"
          ]
        }
      ],
      "source": [
        "# create langsmit client\n",
        "\n",
        "client = Client()\n",
        "dataset_name = \"DBRX\"\n",
        "print(client)"
      ]
    },
    {
      "cell_type": "code",
      "execution_count": 20,
      "metadata": {
        "id": "ALzu38FqYFkA"
      },
      "outputs": [],
      "source": [
        "# Store\n",
        "dataset = client.create_dataset(\n",
        "    dataset_name=dataset_name,\n",
        "    description=\"QA pairs about DBRX model.\",\n",
        ")"
      ]
    },
    {
      "cell_type": "code",
      "execution_count": 21,
      "metadata": {
        "id": "QpiZERz5UiZt"
      },
      "outputs": [],
      "source": [
        "client.create_examples(\n",
        "    inputs=[{\"question\": q} for q in inputs],\n",
        "    outputs=[{\"answer\": a} for a in outputs],\n",
        "    dataset_id=dataset.id,\n",
        ")"
      ]
    },
    {
      "cell_type": "code",
      "execution_count": 25,
      "metadata": {
        "colab": {
          "base_uri": "https://localhost:8080/"
        },
        "id": "XXLS3jnoYbrZ",
        "outputId": "37761bd8-0a04-4c8a-8846-498b3f7ced94"
      },
      "outputs": [
        {
          "name": "stdout",
          "output_type": "stream",
          "text": [
            "[Dataset(name='DBRX', description='QA pairs about DBRX model.', data_type=<DataType.kv: 'kv'>, id=UUID('fd714aca-5ff0-4c0e-8e27-0285603d2e19'), created_at=datetime.datetime(2024, 9, 2, 11, 6, 49, 859699, tzinfo=datetime.timezone.utc), modified_at=datetime.datetime(2024, 9, 2, 11, 6, 49, 859699, tzinfo=datetime.timezone.utc), example_count=3, session_count=0, last_session_start_time=None, inputs_schema=None, outputs_schema=None)]\n"
          ]
        }
      ],
      "source": [
        "datasets = client.list_datasets(dataset_name=\"DBRX\")\n",
        "print(list(datasets))"
      ]
    },
    {
      "cell_type": "code",
      "execution_count": 26,
      "metadata": {
        "id": "WMrpAovKbG4E"
      },
      "outputs": [],
      "source": [
        "# create a new project\n",
        "\n",
        "os.environ[\"LANGCHAIN_PROJECT\"] = \"DBRX\""
      ]
    },
    {
      "cell_type": "code",
      "execution_count": 28,
      "metadata": {
        "id": "lerzTAUDcY0b"
      },
      "outputs": [],
      "source": [
        "# data Load from blog post\n",
        "import requests\n",
        "from bs4 import BeautifulSoup"
      ]
    },
    {
      "cell_type": "code",
      "execution_count": 30,
      "metadata": {
        "id": "PSWwFQTfcpxC"
      },
      "outputs": [],
      "source": [
        "# load from URL\n",
        "url = \"https://www.databricks.com/blog/introducing-dbrx-new-state-art-open-llm\"\n",
        "response = requests.get(url)\n",
        "soup = BeautifulSoup(response.content, \"html.parser\")\n",
        "# print(soup)"
      ]
    },
    {
      "cell_type": "code",
      "execution_count": 31,
      "metadata": {
        "colab": {
          "base_uri": "https://localhost:8080/"
        },
        "id": "uiBQEwN6cweb",
        "outputId": "be15bad0-74f2-44e8-ea0a-9fc5288c4c17"
      },
      "outputs": [
        {
          "name": "stdout",
          "output_type": "stream",
          "text": [
            "by The Mosaic Research Team\n",
            "March 27, 2024 in Mosaic AI Research\n",
            "Today, we are excited to introduce DBRX, an open, general-purpose LLM created by Databricks. Across a range of standard benchmarks, DBRX sets a new state-of-the-art for established open LLMs. Moreover, it provides the open community and enterprises building their own LLMs with capabilities that were previously limited to closed model APIs; according to our measurements, it surpasses GPT-3.5, and it is competitive with Gemini 1.0 Pro. It is an especially capable code model, surpassing specialized models like CodeLLaMA-70B on programming, in addition to its strength as a general-purpose LLM.\n",
            "This state-of-the-art quality comes with marked improvements in training and inference performance. DBRX advances the state-of-the-art in efficiency among open models thanks to its fine-grained mixture-of-experts (MoE) architecture. Inference is up to 2x faster than LLaMA2-70B, and DBRX is about 40% of the size of Grok-1 in terms of both total and active parameter-counts. When hosted on Mosaic AI Model Serving, DBRX can generate text at up to 150 tok/s/user. Our customers will find that training MoEs is also about 2x more FLOP-efficient than training dense models for the same final model quality. End-to-end, our overall recipe for DBRX (including the pretraining data, model architecture, and optimization strategy) can match the quality of our previous-generation MPT models with nearly 4x less compute.\n",
            "\n",
            " \n",
            "The weights of the base model (DBRX Base) and the finetuned model (DBRX Instruct) are available on Hugging Face under an open license. Starting today, DBRX is available for Databricks customers to use via APIs, and Databricks customers can pretrain their own DBRX-class models from scratch or continue training on top of one of our checkpoints using the same tools and science we used to build it. DBRX is already being integrated into our GenAI-powered products, where - in applications like SQL - early rollouts have surpassed GPT-3.5 Turbo and are challenging GPT-4 Turbo. It is also a leading model among open models and GPT-3.5 Turbo on RAG tasks.\n",
            "Training mixture-of-experts models is hard. We had to overcome a variety of scientific and performance challenges to build a pipeline robust enough to repeatably train DBRX-class models in an efficient manner. Now that we have done so, we have a one-of-a-kind training stack that allows any enterprise to train world-class MoE foundation models from scratch. We look forward to sharing that capability with our customers and sharing our lessons learned with the community.\n",
            "Download DBRX today from Hugging Face (DBRX Base, DBRX Instruct), or try out DBRX Instruct in our HF Space,  or see our model repository on github: databricks/dbrx.\n",
            "DBRX is a transformer-based decoder-only large language model (LLM) that was trained using next-token prediction. It uses a fine-grained mixture-of-experts (MoE) architecture with 132B total parameters of which 36B parameters are active on any input. It was pre-trained on 12T tokens of text and code data. Compared to other open MoE models like Mixtral and Grok-1, DBRX is fine-grained, meaning it uses a larger number of smaller experts. DBRX has 16 experts and chooses 4, while Mixtral and Grok-1 have 8 experts and choose 2. This provides 65x more possible combinations of experts and we found that this improves model quality. DBRX uses rotary position encodings (RoPE), gated linear units (GLU), and grouped query attention (GQA). It uses the GPT-4 tokenizer as provided in the tiktoken repository. We made these choices based on exhaustive evaluation and scaling experiments.\n",
            "DBRX was pretrained on 12T tokens of carefully curated data and a maximum context length of 32k tokens. We estimate that this data is at least 2x better token-for-token than the data we used to pretrain the MPT family of models. This new dataset was developed using the full suite of Databricks tools, including Apache Spark™ and Databricks notebooks for data processing, Unity Catalog for data management and governance, and MLflow for experiment tracking. We used curriculum learning for pretraining, changing the data mix during training in ways we found to substantially improve model quality.\n",
            "Table 1 shows the quality of DBRX Instruct and leading established, open models. DBRX Instruct is the leading model on composite benchmarks, programming and mathematics benchmarks, and MMLU. It surpasses all chat or instruction finetuned models on standard benchmarks.\n",
            "Composite benchmarks. We evaluated DBRX Instruct and peers on two composite benchmarks: the Hugging Face Open LLM Leaderboard (the average of ARC-Challenge, HellaSwag, MMLU, TruthfulQA, WinoGrande, and GSM8k) and the Databricks Model Gauntlet (a suite of over 30 tasks spanning six categories: world knowledge, commonsense reasoning, language understanding, reading comprehension, symbolic problem solving, and programming).\n",
            "Among the models we evaluated, DBRX Instruct scores the highest on two composite benchmarks: the Hugging Face Open LLM Leaderboard (74.5% vs. 72.7% for the next highest model, Mixtral Instruct) and the Databricks Gauntlet (66.8% vs. 60.7% for the next highest model, Mixtral Instruct).\n",
            "Programming and mathematics. DBRX Instruct is especially strong at programming and mathematics. It scores higher than the other open models we evaluated on HumanEval (70.1% vs. 63.2% for Grok-1, 54.8% for Mixtral Instruct, and 32.2% for the best-performing LLaMA2-70B variant) and GSM8k (66.9% vs. 62.9% for Grok-1, 61.1% for Mixtral Instruct, and 54.1% for the best-performing LLaMA2-70B variant). DBRX outperforms Grok-1, the next best model on these benchmarks, despite the fact that Grok-1 has 2.4x as many parameters. On HumanEval, DBRX Instruct even surpasses CodeLLaMA-70B Instruct, a model built explicitly for programming, despite the fact that DBRX Instruct is designed for general-purpose use (70.1% vs. 67.8% on HumanEval as reported by Meta in the CodeLLaMA blog).\n",
            "MMLU. DBRX Instruct scores higher than all other models we consider on MMLU, reaching 73.7%.\n",
            "Model\n",
            "DBRX Instruct\n",
            "Mixtral Instruct\n",
            "Mixtral Base\n",
            "LLaMA2-70B Chat\n",
            "LLaMA2-70B Base\n",
            "Grok-11\n",
            "Open LLM Leaderboard2\n",
            "(Avg of next 6 rows)\n",
            "74.5%\n",
            "72.7%\n",
            "68.4%\n",
            "62.4%\n",
            "67.9%\n",
            "—\n",
            "ARC-challenge 25-shot\n",
            "68.9%\n",
            "70.1%\n",
            "66.4%\n",
            "64.6%\n",
            "67.3%\n",
            "—\n",
            "HellaSwag 10-shot\n",
            "89.0%\n",
            "87.6%\n",
            "86.5%\n",
            "85.9%\n",
            "87.3%\n",
            "—\n",
            "MMLU 5-shot\n",
            "73.7%\n",
            "71.4%\n",
            "71.9%\n",
            "63.9%\n",
            "69.8%\n",
            "73.0%\n",
            "Truthful QA 0-shot\n",
            "66.9%\n",
            "65.0%\n",
            "46.8%\n",
            "52.8%\n",
            "44.9%\n",
            "—\n",
            "WinoGrande 5-shot\n",
            "81.8%\n",
            "81.1%\n",
            "81.7%\n",
            "80.5%\n",
            "83.7%\n",
            "—\n",
            "GSM8k CoT 5-shot maj@13\n",
            "66.9%\n",
            "61.1%\n",
            "57.6%\n",
            "26.7%\n",
            "54.1%\n",
            "62.9% (8-shot)\n",
            "Gauntlet v0.34\n",
            "(Avg of 30+ diverse tasks)\n",
            "66.8%\n",
            "60.7%\n",
            "56.8%\n",
            "52.8%\n",
            "56.4%\n",
            "—\n",
            "HumanEval5\n",
            "0-Shot, pass@1\n",
            "(Programming)\n",
            "70.1%\n",
            "54.8%\n",
            "40.2%\n",
            "32.2%\n",
            "31.0%\n",
            "63.2%\n",
            "Table 1. Quality of DBRX Instruct and leading open models. See footnotes for details on how numbers were collected. Bolded and underlined is the highest score.\n",
            "Table 2 shows the quality of DBRX Instruct and leading closed models. According to the scores reported by each model creator, DBRX Instruct surpasses GPT-3.5 (as described in the GPT-4 paper), and it is competitive with Gemini 1.0 Pro and Mistral Medium.\n",
            "Across nearly all benchmarks we considered, DBRX Instruct surpasses or - at worst - matches GPT-3.5. DBRX Instruct outperforms GPT-3.5 on general knowledge as measured by MMLU (73.7% vs. 70.0%) and commonsense reasoning as measured by HellaSwag (89.0% vs. 85.5%) and WinoGrande (81.8% vs. 81.6%). DBRX Instruct especially shines on programming and mathematical reasoning as measured by HumanEval (70.1% vs. 48.1%) and GSM8k (72.8% vs. 57.1%).\n",
            "DBRX Instruct is competitive with Gemini 1.0 Pro and Mistral Medium. Scores for DBRX Instruct are higher than Gemini 1.0 Pro on Inflection Corrected MTBench, MMLU, HellaSwag, and HumanEval, while Gemini 1.0 Pro is stronger on GSM8k. Scores for DBRX Instruct and Mistral Medium are similar for HellaSwag, while Mistral Medium is stronger on Winogrande and MMLU and DBRX Instruct is stronger on HumanEval, GSM8k, and Inflection Corrected MTBench.\n",
            "Model\n",
            "DBRXInstruct\n",
            "GPT-3.57\n",
            "GPT-48\n",
            "Claude 3 Haiku\n",
            "Claude 3 Sonnet\n",
            "Claude 3 Opus\n",
            "Gemini 1.0 Pro\n",
            "Gemini 1.5 Pro\n",
            "Mistral Medium\n",
            "Mistral Large\n",
            "MT Bench (Inflection corrected, n=5)\n",
            "8.39 ± 0.08\n",
            "—\n",
            "—\n",
            "8.41 ± 0.04 \n",
            "8.54 ± 0.09\n",
            "9.03 ± 0.06\n",
            "8.23 ± 0.08\n",
            "—\n",
            "8.05 ± 0.12\n",
            "8.90 ± 0.06\n",
            "MMLU 5-shot\n",
            "73.7%\n",
            "70.0%\n",
            "86.4%\n",
            "75.2%\n",
            "79.0%\n",
            "86.8%\n",
            "71.8%\n",
            "81.9%\n",
            "75.3%\n",
            "81.2%\n",
            "HellaSwag 10-shot\n",
            "89.0%\n",
            "85.5%\n",
            "95.3%\n",
            "85.9%\n",
            "89.0%\n",
            "95.4%\n",
            "84.7%\n",
            "92.5%\n",
            "88.0%\n",
            "89.2%\n",
            "HumanEval 0-Shotpass@1(Programming)\n",
            "70.1% \n",
            "temp=0, N=1\n",
            "48.1%\n",
            "67.0%\n",
            "75.9%\n",
            "73.0%\n",
            "84.9%\n",
            "67.7%\n",
            "71.9%\n",
            "38.4%\n",
            "45.1%\n",
            "GSM8k CoT maj@1\n",
            "72.8% (5-shot)\n",
            "57.1% (5-shot)\n",
            "92.0% (5-shot)\n",
            "88.9%\n",
            "92.3%\n",
            "95.0%\n",
            "86.5%\n",
            "(maj1@32)\n",
            "91.7% (11-shot)\n",
            "66.7% (5-shot)\n",
            "81.0% (5-shot)\n",
            "WinoGrande 5-shot\n",
            "81.8%\n",
            "81.6%\n",
            "87.5%\n",
            "—\n",
            "—\n",
            "—\n",
            "—\n",
            "—\n",
            "88.0%\n",
            "86.7%\n",
            "Table 2. Quality of DBRX Instruct and leading closed models. Other than Inflection Corrected MTBench (which we measured ourselves on model endpoints), numbers were as reported by the creators of these models in their respective whitepapers. See footnotes for additional details.\n",
            "DBRX Instruct was trained with up to a 32K token context window. Table 3 compares its performance to that of Mixtral Instruct and the latest versions of the GPT-3.5 Turbo and GPT-4 Turbo APIs on a suite of long-context benchmarks (KV-Pairs from the Lost in the Middle paper and HotpotQAXL, a modified version of HotPotQA that extends the task to longer sequence lengths). GPT-4 Turbo is generally the best model at these tasks. However, with one exception, DBRX Instruct performs better than GPT-3.5 Turbo at all context lengths and all parts of the sequence. Overall performance for DBRX Instruct and Mixtral Instruct are similar.\n",
            "Model\n",
            "DBRX Instruct\n",
            "Mixtral Instruct\n",
            "GPT-3.5 Turbo (API)\n",
            "GPT-4 Turbo (API)\n",
            "Answer in Beginning Third of Context\n",
            "45.1%\n",
            "41.3%\n",
            "37.3%*\n",
            "49.3%\n",
            "Answer in Middle Third of Context\n",
            "45.3%\n",
            "42.7%\n",
            "37.3%*\n",
            "49.0%\n",
            "Answer in Last Third of Context\n",
            "48.0%\n",
            "44.4%\n",
            "37.0%*\n",
            "50.9%\n",
            "2K Context\n",
            "59.1%\n",
            "64.6%\n",
            "36.3%\n",
            "69.3%\n",
            "4K Context\n",
            "65.1%\n",
            "59.9%\n",
            "35.9%\n",
            "63.5%\n",
            "8K Context\n",
            "59.5%\n",
            "55.3%\n",
            "45.0%\n",
            "61.5%\n",
            "16K Context\n",
            "27.0%\n",
            "20.1%\n",
            "31.7%\n",
            "26.0%\n",
            "32K Context\n",
            "19.9%\n",
            "14.0%\n",
            "—\n",
            "28.5%\n",
            "Table 3. The average performance of models on the KV-Pairs and HotpotQAXL benchmarks. Bold is the highest score. Underlined is the highest score other than GPT-4 Turbo. GPT-3.5 Turbo supports a maximum context length of 16K, so we could not evaluate it at 32K. *Averages for the beginning, middle, and end of the sequence for GPT-3.5 Turbo include only contexts up to 16K.\n",
            "One of the most popular ways to leverage a model’s context is retrieval augmented generation (RAG). In RAG, content relevant to a prompt is retrieved from a database and presented alongside the prompt to give the model more information than it would otherwise have. Table 4 shows the quality of DBRX on two RAG benchmarks - Natural Questions and HotPotQA - when the model is also provided with the top 10 passages retrieved from a corpus of Wikipedia articles using the embedding model bge-large-en-v1.5. DBRX Instruct is competitive with open models like Mixtral Instruct and LLaMA2-70B Chat and the current version of GPT-3.5 Turbo.\n",
            "Model\n",
            "DBRX Instruct\n",
            "Mixtral Instruct\n",
            "LLaMa2-70B Chat\n",
            "GPT 3.5 Turbo (API)\n",
            "GPT 4 Turbo (API)\n",
            "Natural Questions\n",
            "60.0%\n",
            "59.1%\n",
            "56.5%\n",
            "57.7%\n",
            "63.9%\n",
            "HotPotQA\n",
            "55.0%\n",
            "54.2%\n",
            "54.7%\n",
            "53.0%\n",
            "62.9%\n",
            "Table 4. The performance of the models measured when each model is given the top 10 passages retrieved from a Wikipedia corpus using bge-large-en-v1.5. Accuracy is measured by matching within the model’s answer. Bold is the highest score. Underlined is the highest score other than GPT-4 Turbo. \n",
            "Model quality must be placed in the context of how efficient the model is to train and use. This is especially so at Databricks, where we build models like DBRX to establish a process for our customers to train their own foundation models.\n",
            "We found training mixture-of-experts models to provide substantial improvements in compute-efficiency for training (Table 5). For example, training a smaller member of the DBRX family called DBRX MoE-B (23.5B total parameters, 6.6B active parameters) required 1.7x fewer FLOPs to reach a score of 45.5% on the Databricks LLM Gauntlet than LLaMA2-13B required to reach 43.8%. DBRX MoE-B also contains half as many active parameters as LLaMA2-13B.\n",
            "Looking holistically, our end-to-end LLM pretraining pipeline has become nearly 4x more compute-efficient in the past ten months. On May 5, 2023, we released MPT-7B, a 7B parameter model trained on 1T tokens that reached a Databricks LLM Gauntlet score of 30.9%. A member of the DBRX family called DBRX MoE-A (7.7B total parameters, 2.2B active parameters) reached a Databricks Gauntlet score of 30.5% with 3.7x fewer FLOPs. This efficiency is the result of a number of improvements, including using an MoE architecture, other architecture changes to the network, better optimization strategies, better tokenization, and - very importantly - better pretraining data.\n",
            "In isolation, better pretraining data made a substantial impact on model quality. We trained a 7B model on 1T tokens (called DBRX Dense-A) using the DBRX pretraining data. It reached 39.0% on the Databricks Gauntlet compared to 30.9% for MPT-7B. We estimate that our new pretraining data is at least 2x better token-for-token than the data used to train MPT-7B. In other words, we estimate that half as many tokens are necessary to reach the same model quality. We determined this by training DBRX Dense-A on 500B tokens; it outperformed MPT-7B on the Databricks Gauntlet, reaching 32.1%. In addition to better data quality, another important contributor to this token-efficiency may be the GPT-4 tokenizer, which has a large vocabulary and is believed to be especially token-efficient. These lessons about improving data quality translate directly into practices and tools that our customers use to train foundation models on their own data.\n",
            "Model\n",
            "Total Params\n",
            "Active Params\n",
            "Gauntlet Score\n",
            "Relative FLOPs\n",
            "DBRX MoE-A\n",
            "7.7B\n",
            "2.2B\n",
            "30.5%\n",
            "1x\n",
            "MPT-7B (1T tokens)\n",
            "—\n",
            "6.7B\n",
            "30.9%\n",
            "3.7x\n",
            "DBRX Dense-A (1T tokens)\n",
            "—\n",
            "6.7B\n",
            "39.0%\n",
            "3.7x\n",
            "DBRX Dense-A (500B tokens)\n",
            "—\n",
            "6.7B\n",
            "32.1%\n",
            "1.85x\n",
            "DBRX MoE-B\n",
            "23.5B\n",
            "6.6B\n",
            "45.5%\n",
            "1x\n",
            "LLaMA2-13B\n",
            "—\n",
            "13.0B\n",
            "43.8%\n",
            "1.7x\n",
            "Table 5. Details of several test articles that we used to validate the training efficiency of the DBRX MoE architecture and end-to-end training pipeline\n",
            "Figure 2 shows the end-to-end inference efficiency of serving DBRX and similar models using NVIDIA TensorRT-LLM with our optimized serving infrastructure and 16-bit precision. We aim for this benchmark to reflect real-world usage as closely as possible, including multiple users simultaneously hitting the same inference server. We spawn one new user per second, each user request contains an approximately 2000 token prompt, and each response comprises 256 tokens.\n",
            "In general, MoE models are faster at inference than their total parameter-counts would suggest. This is due to the fact that they use relatively few parameters for each input. We find that DBRX is no exception in this respect. DBRX inference throughput is 2-3x higher than a 132B non-MoE model.\n",
            "Inference efficiency and model quality are typically in tension: bigger models typically reach higher quality, but smaller models are more efficient for inference. Using an MoE architecture makes it possible to attain better tradeoffs between model quality and inference efficiency than dense models typically achieve. For example, DBRX is both higher quality than LLaMA2-70B and - thanks to having about half as many active parameters - DBRX inference throughput is up to 2x faster (Figure 2). Mixtral is another point on the improved pareto frontier attained by MoE models: it is smaller than DBRX, and it is correspondingly lower in terms of quality but reaches higher inference throughput. Users of the Databricks Foundation Model APIs can expect to see up to 150 tokens per second for DBRX on our optimized model serving platform with 8-bit quantization.\n",
            " \n",
            "\n",
            "DBRX was trained on 3072 NVIDIA H100s connected by 3.2Tbps Infiniband. The main process of building DBRX - including pretraining, post-training, evaluation, red-teaming, and refining - took place over the course of three months. It was the continuation of months of science, dataset research, and scaling experiments, not to mention years of LLM development at Databricks that includes the MPT and Dolly projects and the thousands of models we have built and brought to production with our customers.\n",
            "To build DBRX, we leveraged the same suite of Databricks tools that are available to our customers. We managed and governed our training data using Unity Catalog. We explored this data using newly acquired Lilac AI. We processed and cleaned this data using Apache Spark™ and Databricks notebooks. We trained DBRX using optimized versions of our open-source training libraries: MegaBlocks, LLM Foundry, Composer, and Streaming. We managed large scale model training and finetuning across thousands of GPUs using our Mosaic AI Training service. We logged our results using MLflow. We collected human feedback for quality and safety improvements through Mosaic AI Model Serving and Inference Tables. We manually experimented with the model using the Databricks Playground. We found the Databricks tools to be best-in-class for each of their purposes, and we benefited from the fact that they were all part of a unified product experience.\n",
            "If you’re looking to start working with DBRX right away, it’s easy to do so with the Databricks Mosaic AI Foundation Model APIs. You can quickly get started with our pay-as-you-go pricing and query the model from our AI Playground chat interface. For production applications, we offer a provisioned throughput option to provide performance guarantees, support for finetuned models, and additional security and compliance. To privately host DBRX, you can download the model from the Databricks Marketplace and deploy the model on Model Serving.\n",
            "At Databricks, we believe that every enterprise should have the ability to control its data and its destiny in the emerging world of GenAI. DBRX is a central pillar of our next generation of GenAI products, and we look forward to the exciting journey that awaits our customers as they leverage the capabilities of DBRX and the tools we used to build it. In the past year, we have trained thousands of LLMs with our customers. DBRX is only one example of the powerful and efficient models being built at Databricks for a wide range of applications, from internal features to ambitious use-cases for our customers.\n",
            "As with any new model, the journey with DBRX is just the beginning, and the best work will be done by those who build on it: enterprises and the open community. This is also just the beginning of our work on DBRX, and you should expect much more to come.\n",
            "The development of DBRX was led by the Mosaic team that previously built the MPT model family, in collaboration with dozens of engineers, lawyers, procurement and finance specialists, program managers, marketers, designers, and other contributors from across Databricks. We are grateful to our colleagues, friends, family, and the community for their patience and support over the past months.\n",
            "In creating DBRX, we stand on the shoulders of giants in the open and academic community. By making DBRX available openly, we intend to invest back in the community in hopes that we will build even greater technology together in the future. With that in mind, we gratefully acknowledge the work and collaboration of Trevor Gale and his MegaBlocks project (Trevor’s PhD adviser is Databricks CTO Matei Zaharia), the PyTorch team and the FSDP project, NVIDIA and the TensorRT-LLM project, the vLLM team and project, EleutherAI and their LLM evaluation project, Daniel Smilkov and Nikhil Thorat at Lilac AI, and our friends at the Allen Institute for Artificial Intelligence (AI2).\n",
            "Databricks is the Data and AI company. More than 10,000 organizations worldwide — including Comcast, Condé Nast, Grammarly, and over 50% of the Fortune 500 — rely on the Databricks Data Intelligence Platform to unify and democratize data, analytics and AI. Databricks is headquartered in San Francisco, with offices around the globe and was founded by the original creators of Lakehouse, Apache Spark™, Delta Lake and MLflow. To learn more, follow Databricks on LinkedIn, X, and Facebook.\n",
            "1  Numbers as reported by xAI. Due to a lack of Hugging Face-compatible checkpoint at release time, we could not evaluate Grok-1 ourselves on our full suite of benchmarks.\n",
            "2 DBRX was measured by us using the EleutherAI Harness. All other numbers were as reported on the Hugging Face Open LLM Leaderboard.\n",
            "3  DBRX was measured by us using the EleutherAI Harness with the same older commit that is used by the Hugging Face Open LLM Leaderboard. All other numbers were as reported on the Hugging Face Open LLM Leaderboard. Note that when using the latest commit of the EleutherAI Harness, which includes several parsing fixes, DBRX’s 5-shot score on GSM8k goes up to 72.8% as reported in Table 2. LLaMA2-70B Chat also goes up to 48.4%.\n",
            "4 Measured by Databricks using Gauntlet v0.3.0 in LLM Foundry.\n",
            "5 Unless otherwise noted, measured by Databricks.\n",
            "6  This number is from the Mixtral Arxiv paper. We report this number because it is higher than what we measured when evaluating the model ourselves (36.7%)\n",
            "7 All scores as reported in the GPT-4 paper. We could not collect Inflection Corrected MTBench because this version of GPT-3.5 is not available. We found the current version of GPT-3.5 Turbo to score 8.58 ± 0.04 on Inflection Corrected MTBench compared to 8.39 +/- 0.08 for DBRX Instruct.\n",
            "8 All scores as reported in the GPT-4 paper. We could not collect Inflection Corrected MTBench because this version of GPT-4 is not available. We found the current version of GPT-4 Turbo to score 9.27 ± 0.10 on Inflection Corrected MTBench compared to 8.39 +/- 0.08 for DBRX Instruct.\n",
            "Databricks Inc.\n",
            "160 Spear Street, 15th Floor\n",
            "San Francisco, CA 94105\n",
            "1-866-330-0121\n",
            "See Careers\n",
            "at Databricks\n",
            "© Databricks 2024. All rights reserved. Apache, Apache Spark, Spark and the Spark logo are trademarks of the Apache Software Foundation.\n"
          ]
        }
      ],
      "source": [
        "text = [p.text for p in soup.find_all(\"p\")]\n",
        "full_text = \"\\n\".join(text)\n",
        "print(full_text)"
      ]
    },
    {
      "cell_type": "code",
      "execution_count": 36,
      "metadata": {
        "id": "agg62tY8dVm5"
      },
      "outputs": [],
      "source": [
        "# OpenAI API\n",
        "import openai\n",
        "from langsmith.wrappers import wrap_openai\n",
        "\n",
        "openai_client = wrap_openai(openai.Client())"
      ]
    },
    {
      "cell_type": "code",
      "execution_count": 37,
      "metadata": {
        "id": "wav8LM6Dc5zL"
      },
      "outputs": [],
      "source": [
        "# create the question answers\n",
        "\n",
        "def answer_dbrx_question_oai(inputs: dict) -> dict:\n",
        "    \"\"\"\n",
        "    Generates answers to user questions based on a provided website text using OpenAI API.\n",
        "\n",
        "    Parameters:\n",
        "    inputs (dict): A dictionary with a single key 'question', representing the user's question as a string.\n",
        "\n",
        "    Returns:\n",
        "    dict: A dictionary with a single key 'output', containing the generated answer as a string.\n",
        "    \"\"\"\n",
        "\n",
        "    # System prompt\n",
        "    system_msg = (\n",
        "        f\"Answer user questions in 2-3 sentences about this context: \\n\\n\\n {full_text}\"\n",
        "    )\n",
        "\n",
        "    # Pass in website text\n",
        "    messages = [\n",
        "        {\"role\": \"system\", \"content\": system_msg},\n",
        "        {\"role\": \"user\", \"content\": inputs[\"question\"]},\n",
        "    ]\n",
        "\n",
        "    # Call OpenAI\n",
        "    response = openai_client.chat.completions.create(\n",
        "        messages=messages, model=\"gpt-3.5-turbo\"\n",
        "    )\n",
        "\n",
        "    # Response in output dict\n",
        "    return {\"answer\": response.dict()[\"choices\"][0][\"message\"][\"content\"]}"
      ]
    },
    {
      "cell_type": "code",
      "execution_count": 38,
      "metadata": {
        "colab": {
          "base_uri": "https://localhost:8080/"
        },
        "id": "1l4gO7NhdyiS",
        "outputId": "62a9dbf2-c999-4a1c-cebe-bbe927d6dccf"
      },
      "outputs": [
        {
          "data": {
            "text/plain": [
              "{'answer': 'DBRX excels in training efficiency compared to MPT-7B. Specifically, a member of the DBRX family called DBRX MoE-A (7.7B total parameters) required 3.7x fewer FLOPs to reach a Databricks LLM Gauntlet score of 30.5% compared to MPT-7B (1T tokens). This efficiency improvement is attributed to better data quality, a more efficient architecture using MoE, optimization strategies, tokenization, and enhanced pretraining data.'}"
            ]
          },
          "execution_count": 38,
          "metadata": {},
          "output_type": "execute_result"
        }
      ],
      "source": [
        "# User question example\n",
        "\n",
        "answer_dbrx_question_oai(\n",
        "    {\n",
        "        \"question\": \"What are the main differences in training efficiency between MPT-7B vs DBRX?\"\n",
        "    }\n",
        ")"
      ]
    },
    {
      "cell_type": "code",
      "execution_count": 39,
      "metadata": {
        "colab": {
          "base_uri": "https://localhost:8080/"
        },
        "id": "k6TdN1gFd4SZ",
        "outputId": "fcfa13eb-74c0-4d8e-f6cd-c1f9c2527bde"
      },
      "outputs": [
        {
          "data": {
            "text/plain": [
              "{'answer': 'DBRX was pre-trained on 12 trillion tokens of text and code data.'}"
            ]
          },
          "execution_count": 39,
          "metadata": {},
          "output_type": "execute_result"
        }
      ],
      "source": [
        "# User question example\n",
        "\n",
        "answer_dbrx_question_oai({\"question\": \"How many tokens was DBRX pre-trained on?\"})"
      ]
    },
    {
      "cell_type": "code",
      "execution_count": 47,
      "metadata": {
        "id": "lIap7VtbeRAe"
      },
      "outputs": [],
      "source": [
        "# !pip install langchain"
      ]
    },
    {
      "cell_type": "code",
      "execution_count": 48,
      "metadata": {
        "colab": {
          "base_uri": "https://localhost:8080/",
          "height": 645
        },
        "id": "cB5lxXZCeCFY",
        "outputId": "97b433db-9da6-4e18-9e39-fe72543a4717"
      },
      "outputs": [
        {
          "ename": "ValueError",
          "evalue": "Evaluation with the <class 'langchain.evaluation.qa.eval_chain.CotQAEvalChain'> requires a language model to function. Failed to create the default 'gpt-4' model. Please manually provide an evaluation LLM or check your openai credentials.",
          "output_type": "error",
          "traceback": [
            "\u001b[0;31m---------------------------------------------------------------------------\u001b[0m",
            "\u001b[0;31mModuleNotFoundError\u001b[0m                       Traceback (most recent call last)",
            "\u001b[0;32m/usr/local/lib/python3.10/dist-packages/langchain/evaluation/loading.py\u001b[0m in \u001b[0;36mload_evaluator\u001b[0;34m(evaluator, llm, **kwargs)\u001b[0m\n\u001b[1;32m    134\u001b[0m             \u001b[0;32mtry\u001b[0m\u001b[0;34m:\u001b[0m\u001b[0;34m\u001b[0m\u001b[0;34m\u001b[0m\u001b[0m\n\u001b[0;32m--> 135\u001b[0;31m                 \u001b[0;32mfrom\u001b[0m \u001b[0mlangchain_openai\u001b[0m \u001b[0;32mimport\u001b[0m \u001b[0mChatOpenAI\u001b[0m\u001b[0;34m\u001b[0m\u001b[0;34m\u001b[0m\u001b[0m\n\u001b[0m\u001b[1;32m    136\u001b[0m             \u001b[0;32mexcept\u001b[0m \u001b[0mImportError\u001b[0m\u001b[0;34m:\u001b[0m\u001b[0;34m\u001b[0m\u001b[0;34m\u001b[0m\u001b[0m\n",
            "\u001b[0;31mModuleNotFoundError\u001b[0m: No module named 'langchain_openai'",
            "\nDuring handling of the above exception, another exception occurred:\n",
            "\u001b[0;31mModuleNotFoundError\u001b[0m                       Traceback (most recent call last)",
            "\u001b[0;32m/usr/local/lib/python3.10/dist-packages/langchain/evaluation/loading.py\u001b[0m in \u001b[0;36mload_evaluator\u001b[0;34m(evaluator, llm, **kwargs)\u001b[0m\n\u001b[1;32m    137\u001b[0m                 \u001b[0;32mtry\u001b[0m\u001b[0;34m:\u001b[0m\u001b[0;34m\u001b[0m\u001b[0;34m\u001b[0m\u001b[0m\n\u001b[0;32m--> 138\u001b[0;31m                     \u001b[0;32mfrom\u001b[0m \u001b[0mlangchain_community\u001b[0m\u001b[0;34m.\u001b[0m\u001b[0mchat_models\u001b[0m\u001b[0;34m.\u001b[0m\u001b[0mopenai\u001b[0m \u001b[0;32mimport\u001b[0m \u001b[0mChatOpenAI\u001b[0m\u001b[0;34m\u001b[0m\u001b[0;34m\u001b[0m\u001b[0m\n\u001b[0m\u001b[1;32m    139\u001b[0m                 \u001b[0;32mexcept\u001b[0m \u001b[0mImportError\u001b[0m\u001b[0;34m:\u001b[0m\u001b[0;34m\u001b[0m\u001b[0;34m\u001b[0m\u001b[0m\n",
            "\u001b[0;31mModuleNotFoundError\u001b[0m: No module named 'langchain_community'",
            "\nDuring handling of the above exception, another exception occurred:\n",
            "\u001b[0;31mImportError\u001b[0m                               Traceback (most recent call last)",
            "\u001b[0;32m/usr/local/lib/python3.10/dist-packages/langchain/evaluation/loading.py\u001b[0m in \u001b[0;36mload_evaluator\u001b[0;34m(evaluator, llm, **kwargs)\u001b[0m\n\u001b[1;32m    139\u001b[0m                 \u001b[0;32mexcept\u001b[0m \u001b[0mImportError\u001b[0m\u001b[0;34m:\u001b[0m\u001b[0;34m\u001b[0m\u001b[0;34m\u001b[0m\u001b[0m\n\u001b[0;32m--> 140\u001b[0;31m                     raise ImportError(\n\u001b[0m\u001b[1;32m    141\u001b[0m                         \u001b[0;34m\"Could not import langchain_openai or fallback onto \"\u001b[0m\u001b[0;34m\u001b[0m\u001b[0;34m\u001b[0m\u001b[0m\n",
            "\u001b[0;31mImportError\u001b[0m: Could not import langchain_openai or fallback onto langchain_community. Please install langchain_openai or specify a language model explicitly. It's recommended to install langchain_openai AND specify a language model explicitly.",
            "\nThe above exception was the direct cause of the following exception:\n",
            "\u001b[0;31mValueError\u001b[0m                                Traceback (most recent call last)",
            "\u001b[0;32m<ipython-input-48-2bc9145cc0e4>\u001b[0m in \u001b[0;36m<cell line: 6>\u001b[0;34m()\u001b[0m\n\u001b[1;32m      4\u001b[0m \u001b[0;34m\u001b[0m\u001b[0m\n\u001b[1;32m      5\u001b[0m \u001b[0;31m# Evaluators\u001b[0m\u001b[0;34m\u001b[0m\u001b[0;34m\u001b[0m\u001b[0m\n\u001b[0;32m----> 6\u001b[0;31m \u001b[0mqa_evalulator\u001b[0m \u001b[0;34m=\u001b[0m \u001b[0;34m[\u001b[0m\u001b[0mLangChainStringEvaluator\u001b[0m\u001b[0;34m(\u001b[0m\u001b[0;34m\"cot_qa\"\u001b[0m\u001b[0;34m)\u001b[0m\u001b[0;34m]\u001b[0m\u001b[0;34m\u001b[0m\u001b[0;34m\u001b[0m\u001b[0m\n\u001b[0m\u001b[1;32m      7\u001b[0m \u001b[0mdataset_name\u001b[0m \u001b[0;34m=\u001b[0m \u001b[0;34m\"DBRX\"\u001b[0m\u001b[0;34m\u001b[0m\u001b[0;34m\u001b[0m\u001b[0m\n",
            "\u001b[0;32m/usr/local/lib/python3.10/dist-packages/langsmith/evaluation/integrations/_langchain.py\u001b[0m in \u001b[0;36m__init__\u001b[0;34m(self, evaluator, config, prepare_data)\u001b[0m\n\u001b[1;32m    163\u001b[0m             \u001b[0;32mfrom\u001b[0m \u001b[0mlangchain\u001b[0m\u001b[0;34m.\u001b[0m\u001b[0mevaluation\u001b[0m \u001b[0;32mimport\u001b[0m \u001b[0mload_evaluator\u001b[0m  \u001b[0;31m# noqa: F811\u001b[0m\u001b[0;34m\u001b[0m\u001b[0;34m\u001b[0m\u001b[0m\n\u001b[1;32m    164\u001b[0m \u001b[0;34m\u001b[0m\u001b[0m\n\u001b[0;32m--> 165\u001b[0;31m             \u001b[0mself\u001b[0m\u001b[0;34m.\u001b[0m\u001b[0mevaluator\u001b[0m \u001b[0;34m=\u001b[0m \u001b[0mload_evaluator\u001b[0m\u001b[0;34m(\u001b[0m\u001b[0mevaluator\u001b[0m\u001b[0;34m,\u001b[0m \u001b[0;34m**\u001b[0m\u001b[0;34m(\u001b[0m\u001b[0mconfig\u001b[0m \u001b[0;32mor\u001b[0m \u001b[0;34m{\u001b[0m\u001b[0;34m}\u001b[0m\u001b[0;34m)\u001b[0m\u001b[0;34m)\u001b[0m  \u001b[0;31m# type: ignore[assignment, arg-type]\u001b[0m\u001b[0;34m\u001b[0m\u001b[0;34m\u001b[0m\u001b[0m\n\u001b[0m\u001b[1;32m    166\u001b[0m         \u001b[0;32melse\u001b[0m\u001b[0;34m:\u001b[0m\u001b[0;34m\u001b[0m\u001b[0;34m\u001b[0m\u001b[0m\n\u001b[1;32m    167\u001b[0m             \u001b[0;32mraise\u001b[0m \u001b[0mNotImplementedError\u001b[0m\u001b[0;34m(\u001b[0m\u001b[0;34mf\"Unsupported evaluator type: {type(evaluator)}\"\u001b[0m\u001b[0;34m)\u001b[0m\u001b[0;34m\u001b[0m\u001b[0;34m\u001b[0m\u001b[0m\n",
            "\u001b[0;32m/usr/local/lib/python3.10/dist-packages/langchain/evaluation/loading.py\u001b[0m in \u001b[0;36mload_evaluator\u001b[0;34m(evaluator, llm, **kwargs)\u001b[0m\n\u001b[1;32m    150\u001b[0m             )\n\u001b[1;32m    151\u001b[0m         \u001b[0;32mexcept\u001b[0m \u001b[0mException\u001b[0m \u001b[0;32mas\u001b[0m \u001b[0me\u001b[0m\u001b[0;34m:\u001b[0m\u001b[0;34m\u001b[0m\u001b[0;34m\u001b[0m\u001b[0m\n\u001b[0;32m--> 152\u001b[0;31m             raise ValueError(\n\u001b[0m\u001b[1;32m    153\u001b[0m                 \u001b[0;34mf\"Evaluation with the {evaluator_cls} requires a \"\u001b[0m\u001b[0;34m\u001b[0m\u001b[0;34m\u001b[0m\u001b[0m\n\u001b[1;32m    154\u001b[0m                 \u001b[0;34m\"language model to function.\"\u001b[0m\u001b[0;34m\u001b[0m\u001b[0;34m\u001b[0m\u001b[0m\n",
            "\u001b[0;31mValueError\u001b[0m: Evaluation with the <class 'langchain.evaluation.qa.eval_chain.CotQAEvalChain'> requires a language model to function. Failed to create the default 'gpt-4' model. Please manually provide an evaluation LLM or check your openai credentials."
          ]
        }
      ],
      "source": [
        "# create a Evaluator\n",
        "\n",
        "from langsmith.evaluation import evaluate, LangChainStringEvaluator\n",
        "\n",
        "# Evaluators\n",
        "qa_evalulator = [LangChainStringEvaluator(\"cot_qa\")]\n",
        "dataset_name = \"DBRX\""
      ]
    },
    {
      "cell_type": "code",
      "execution_count": null,
      "metadata": {
        "id": "wiE8qbMNi8mA"
      },
      "outputs": [],
      "source": [
        "!pip install langchain\n",
        "\n",
        "# create a Evaluator\n",
        "\n",
        "from langsmith.evaluation import evaluate, LangChainStringEvaluator\n",
        "from langchain.evaluation.schema import StringEvaluator # import StringEvaluator from langchain\n",
        "\n",
        "# Evaluators\n",
        "qa_evalulator = [LangChainStringEvaluator(\"cot_qa\")]\n",
        "dataset_name = \"DBRX\""
      ]
    },
    {
      "cell_type": "code",
      "execution_count": null,
      "metadata": {
        "id": "18_hW1-sd6mC"
      },
      "outputs": [],
      "source": [
        "\n",
        "\n",
        "experiment_results = evaluate(\n",
        "    answer_dbrx_question_oai,\n",
        "    data=dataset_name,\n",
        "    evaluators=qa_evalulator,\n",
        "    experiment_prefix=\"test-dbrx-qa-oai\",\n",
        "    # Any experiment metadata can be specified here\n",
        "    metadata={\n",
        "        \"variant\": \"stuff website context into gpt-3.5-turbo\",\n",
        "    },\n",
        ")"
      ]
    }
  ],
  "metadata": {
    "colab": {
      "provenance": []
    },
    "kernelspec": {
      "display_name": "Python 3",
      "name": "python3"
    },
    "language_info": {
      "name": "python"
    }
  },
  "nbformat": 4,
  "nbformat_minor": 0
}
